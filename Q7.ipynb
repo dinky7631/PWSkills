{
 "cells": [
  {
   "cell_type": "code",
   "execution_count": 5,
   "id": "31700a98-2d97-498b-8d86-dbecc0e2f8c2",
   "metadata": {},
   "outputs": [
    {
     "name": "stdout",
     "output_type": "stream",
     "text": [
      "Mutable example (list): [10, 2, 3]\n",
      "Immutable example (tuple): (1, 2, 3)\n"
     ]
    }
   ],
   "source": [
    "mutable_example = [1, 2, 3]\n",
    "mutable_example[0] = 10  # Lists are mutable\n",
    "\n",
    "immutable_example = (1, 2, 3)\n",
    "#immutable_example[0] = 10  # Tuples are immutable, this line would cause an error\n",
    "\n",
    "print(\"Mutable example (list):\", mutable_example)\n",
    "print(\"Immutable example (tuple):\", immutable_example)\n"
   ]
  },
  {
   "cell_type": "code",
   "execution_count": null,
   "id": "01ede537-80c4-4054-9a31-446687ac721d",
   "metadata": {},
   "outputs": [],
   "source": []
  }
 ],
 "metadata": {
  "kernelspec": {
   "display_name": "Python 3 (ipykernel)",
   "language": "python",
   "name": "python3"
  },
  "language_info": {
   "codemirror_mode": {
    "name": "ipython",
    "version": 3
   },
   "file_extension": ".py",
   "mimetype": "text/x-python",
   "name": "python",
   "nbconvert_exporter": "python",
   "pygments_lexer": "ipython3",
   "version": "3.12.7"
  }
 },
 "nbformat": 4,
 "nbformat_minor": 5
}
