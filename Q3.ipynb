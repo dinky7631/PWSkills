{
 "cells": [
  {
   "cell_type": "code",
   "execution_count": 1,
   "id": "319eb9a8-0414-457d-80a3-699b55d4eec4",
   "metadata": {},
   "outputs": [
    {
     "name": "stdout",
     "output_type": "stream",
     "text": [
      "10\n",
      "123\n"
     ]
    }
   ],
   "source": [
    "# From float to int\n",
    "x = 10.5\n",
    "x_int = int(x)  # Result: 10 (decimal part is truncated)\n",
    "print(x_int)\n",
    "\n",
    "# From string to int\n",
    "s = \"123\"\n",
    "s_int = int(s)  # Result: 123\n",
    "print(s_int)\n"
   ]
  },
  {
   "cell_type": "code",
   "execution_count": null,
   "id": "e89fdec5-0656-4d5d-8ece-81df7d8e3ab8",
   "metadata": {},
   "outputs": [],
   "source": []
  }
 ],
 "metadata": {
  "kernelspec": {
   "display_name": "Python 3 (ipykernel)",
   "language": "python",
   "name": "python3"
  },
  "language_info": {
   "codemirror_mode": {
    "name": "ipython",
    "version": 3
   },
   "file_extension": ".py",
   "mimetype": "text/x-python",
   "name": "python",
   "nbconvert_exporter": "python",
   "pygments_lexer": "ipython3",
   "version": "3.12.7"
  }
 },
 "nbformat": 4,
 "nbformat_minor": 5
}
