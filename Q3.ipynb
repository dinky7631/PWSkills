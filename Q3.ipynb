{
 "cells": [
  {
   "cell_type": "code",
   "execution_count": 1,
   "id": "188f13db-11fe-4a76-bf57-4c5b7fda9e9d",
   "metadata": {},
   "outputs": [
    {
     "name": "stdout",
     "output_type": "stream",
     "text": [
      "/ : 3.3333333333333335\n",
      "% : 1\n",
      "//: 3\n",
      ": 1000\n"
     ]
    }
   ],
   "source": [
    "x, y = 10, 3\n",
    "print(\"/ :\", x / y)  \n",
    "print(\"% :\", x % y)  \n",
    "print(\"//:\", x // y)  \n",
    "print(\":\", x ** y)  \n"
   ]
  },
  {
   "cell_type": "code",
   "execution_count": null,
   "id": "cd660634-4665-4e3e-8a2c-cbd9b76f7e1e",
   "metadata": {},
   "outputs": [],
   "source": []
  }
 ],
 "metadata": {
  "kernelspec": {
   "display_name": "Python 3 (ipykernel)",
   "language": "python",
   "name": "python3"
  },
  "language_info": {
   "codemirror_mode": {
    "name": "ipython",
    "version": 3
   },
   "file_extension": ".py",
   "mimetype": "text/x-python",
   "name": "python",
   "nbconvert_exporter": "python",
   "pygments_lexer": "ipython3",
   "version": "3.12.7"
  }
 },
 "nbformat": 4,
 "nbformat_minor": 5
}
