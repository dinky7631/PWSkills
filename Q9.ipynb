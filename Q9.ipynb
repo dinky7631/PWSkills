{
 "cells": [
  {
   "cell_type": "code",
   "execution_count": 1,
   "id": "8b357c24-2e1e-4c70-9bd9-f1894c234faa",
   "metadata": {},
   "outputs": [
    {
     "name": "stdout",
     "output_type": "stream",
     "text": [
      "Dinky Kumari\n"
     ]
    }
   ],
   "source": [
    "name=\"Dinky Kumari\"\n",
    "print(name)"
   ]
  },
  {
   "cell_type": "code",
   "execution_count": null,
   "id": "424ae846-02c9-43e8-884c-5a8b707e7c20",
   "metadata": {},
   "outputs": [],
   "source": []
  }
 ],
 "metadata": {
  "kernelspec": {
   "display_name": "Python 3 (ipykernel)",
   "language": "python",
   "name": "python3"
  },
  "language_info": {
   "codemirror_mode": {
    "name": "ipython",
    "version": 3
   },
   "file_extension": ".py",
   "mimetype": "text/x-python",
   "name": "python",
   "nbconvert_exporter": "python",
   "pygments_lexer": "ipython3",
   "version": "3.12.7"
  }
 },
 "nbformat": 4,
 "nbformat_minor": 5
}
