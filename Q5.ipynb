{
 "cells": [
  {
   "cell_type": "code",
   "execution_count": 1,
   "id": "380c66c3-6a84-4a39-b7d3-c6904d083c00",
   "metadata": {},
   "outputs": [
    {
     "name": "stdout",
     "output_type": "stream",
     "text": [
      "64 is divisible by 2, 6 times\n"
     ]
    }
   ],
   "source": [
    "def check_divisibility(A, B):\n",
    "    count = 0\n",
    "    while A % B == 0:\n",
    "        A //= B\n",
    "        count += 1\n",
    "    return count\n",
    "\n",
    "A, B = 64, 2\n",
    "print(f\"{A} is divisible by {B}, {check_divisibility(A, B)} times\")\n"
   ]
  },
  {
   "cell_type": "code",
   "execution_count": null,
   "id": "0661bee7-d6ca-4222-bc41-8d3666cc5d6d",
   "metadata": {},
   "outputs": [],
   "source": []
  }
 ],
 "metadata": {
  "kernelspec": {
   "display_name": "Python 3 (ipykernel)",
   "language": "python",
   "name": "python3"
  },
  "language_info": {
   "codemirror_mode": {
    "name": "ipython",
    "version": 3
   },
   "file_extension": ".py",
   "mimetype": "text/x-python",
   "name": "python",
   "nbconvert_exporter": "python",
   "pygments_lexer": "ipython3",
   "version": "3.12.7"
  }
 },
 "nbformat": 4,
 "nbformat_minor": 5
}
