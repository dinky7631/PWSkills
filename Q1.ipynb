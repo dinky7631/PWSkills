{
 "cells": [
  {
   "cell_type": "code",
   "execution_count": 9,
   "id": "ee3a9187-8b60-4df9-956b-399f57961c93",
   "metadata": {},
   "outputs": [
    {
     "name": "stdout",
     "output_type": "stream",
     "text": [
      "20 30\n"
     ]
    }
   ],
   "source": [
    "#In Python, there are two types of comments:\n",
    "#Single-line comments\n",
    "#Multi-line comments (also called block comments)\n",
    "#1. Single-line Comments\n",
    "#Single-line comments begin with a hash symbol (#). Everything after the # on that line will be ignored by the Python interpreter.\n",
    "#Example\n",
    "# This is a single-line comment\n",
    "x = 10  # This is an inline comment next to a statement\n",
    "\"\"\"2. Multi-line Comments (Block Comments)\n",
    "we can use multiple single-line comments by placing # at the beginning of each line. \n",
    "Alternatively, we can use  triple quotes, which  can also be used as multi-line comments.\n",
    "Example\n",
    "# This is a multi-line comment\n",
    "# It spans multiple lines\n",
    "# Each line starts with a hash symbol\"\"\"\n",
    "x = 20\n",
    "#2nd method for multi line comment\n",
    "\"\"\"\n",
    "This is a multi-line comment.\n",
    "You can write as many lines as you like here.\n",
    "It's useful for commenting out large blocks of code.\n",
    "\"\"\"\n",
    "y = 30\n",
    "print(x,y)\n"
   ]
  },
  {
   "cell_type": "code",
   "execution_count": null,
   "id": "7aae5859-f8ff-4a19-93d5-7b2cf38662bd",
   "metadata": {},
   "outputs": [],
   "source": []
  }
 ],
 "metadata": {
  "kernelspec": {
   "display_name": "Python 3 (ipykernel)",
   "language": "python",
   "name": "python3"
  },
  "language_info": {
   "codemirror_mode": {
    "name": "ipython",
    "version": 3
   },
   "file_extension": ".py",
   "mimetype": "text/x-python",
   "name": "python",
   "nbconvert_exporter": "python",
   "pygments_lexer": "ipython3",
   "version": "3.12.7"
  }
 },
 "nbformat": 4,
 "nbformat_minor": 5
}
