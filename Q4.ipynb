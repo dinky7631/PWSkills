{
 "cells": [
  {
   "cell_type": "code",
   "execution_count": 1,
   "id": "80a2f1b1-4135-41c3-a22e-0ecf942e0ac1",
   "metadata": {},
   "outputs": [
    {
     "name": "stdout",
     "output_type": "stream",
     "text": [
      "10 - <class 'int'>\n",
      "3.14 - <class 'float'>\n",
      "Python - <class 'str'>\n",
      "True - <class 'bool'>\n",
      "[1, 2] - <class 'list'>\n",
      "(3, 4) - <class 'tuple'>\n",
      "{5, 6} - <class 'set'>\n",
      "{'a': 7} - <class 'dict'>\n",
      "None - <class 'NoneType'>\n",
      "(2+3j) - <class 'complex'>\n"
     ]
    }
   ],
   "source": [
    "list = [10, 3.14, \"Python\", True, [1, 2], (3, 4), {5, 6}, {'a': 7}, None, complex(2, 3)]\n",
    "for item in list:\n",
    "    print(item, \"-\", type(item))\n"
   ]
  },
  {
   "cell_type": "code",
   "execution_count": null,
   "id": "962cd8c7-d96f-4614-8bbb-bb4ac969d247",
   "metadata": {},
   "outputs": [],
   "source": []
  }
 ],
 "metadata": {
  "kernelspec": {
   "display_name": "Python 3 (ipykernel)",
   "language": "python",
   "name": "python3"
  },
  "language_info": {
   "codemirror_mode": {
    "name": "ipython",
    "version": 3
   },
   "file_extension": ".py",
   "mimetype": "text/x-python",
   "name": "python",
   "nbconvert_exporter": "python",
   "pygments_lexer": "ipython3",
   "version": "3.12.7"
  }
 },
 "nbformat": 4,
 "nbformat_minor": 5
}
