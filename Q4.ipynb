{
 "cells": [
  {
   "cell_type": "code",
   "execution_count": null,
   "id": "92509fa1-78bd-4223-bc16-d8ce66576a1b",
   "metadata": {},
   "outputs": [],
   "source": [
    "Create a Python script and save it with a .py extension.\n",
    "Open your terminal/command prompt and navigate to the directory containing the script.\n",
    "Run the script using python script.py (or python3 script.py for Python 3)."
   ]
  }
 ],
 "metadata": {
  "kernelspec": {
   "display_name": "Python 3 (ipykernel)",
   "language": "python",
   "name": "python3"
  },
  "language_info": {
   "codemirror_mode": {
    "name": "ipython",
    "version": 3
   },
   "file_extension": ".py",
   "mimetype": "text/x-python",
   "name": "python",
   "nbconvert_exporter": "python",
   "pygments_lexer": "ipython3",
   "version": "3.12.7"
  }
 },
 "nbformat": 4,
 "nbformat_minor": 5
}
