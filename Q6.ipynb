{
 "cells": [
  {
   "cell_type": "code",
   "execution_count": 1,
   "id": "9bb65e2a-6207-4060-8afc-bc2ee3c13aa3",
   "metadata": {},
   "outputs": [
    {
     "name": "stdout",
     "output_type": "stream",
     "text": [
      "Complex number: (3+4j)\n",
      "Real part: 3.0\n",
      "Imaginary part: 4.0\n"
     ]
    }
   ],
   "source": [
    "\"\"\"A complex number is a number that has two parts:\n",
    "A real part (which is a regular number).\n",
    "An imaginary part, which is a real number multiplied by the imaginary unit i, where i is the square root of -1 (i.e., i = √-1).\n",
    "A complex number is generally represented as:\n",
    "  𝑧 = 𝑎+𝑏𝑖\n",
    "It is represented in the python in the following syntax: a + bj\n",
    "\n",
    "\"\"\"\n",
    "#Example\n",
    "# Defining a complex number\n",
    "z = 3 + 4j\n",
    "\n",
    "# Accessing real and imaginary parts\n",
    "real_part = z.real\n",
    "imaginary_part = z.imag\n",
    "\n",
    "print(\"Complex number:\", z)\n",
    "print(\"Real part:\", real_part)\n",
    "print(\"Imaginary part:\", imaginary_part)\n",
    "\n"
   ]
  },
  {
   "cell_type": "code",
   "execution_count": null,
   "id": "21d7345c-2d5f-480a-990f-3871bda40680",
   "metadata": {},
   "outputs": [],
   "source": []
  }
 ],
 "metadata": {
  "kernelspec": {
   "display_name": "Python 3 (ipykernel)",
   "language": "python",
   "name": "python3"
  },
  "language_info": {
   "codemirror_mode": {
    "name": "ipython",
    "version": 3
   },
   "file_extension": ".py",
   "mimetype": "text/x-python",
   "name": "python",
   "nbconvert_exporter": "python",
   "pygments_lexer": "ipython3",
   "version": "3.12.7"
  }
 },
 "nbformat": 4,
 "nbformat_minor": 5
}
