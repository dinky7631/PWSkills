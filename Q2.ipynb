{
 "cells": [
  {
   "cell_type": "code",
   "execution_count": 3,
   "id": "aada3792-c615-4a24-bbad-ccaba8e4b6c8",
   "metadata": {},
   "outputs": [
    {
     "name": "stdout",
     "output_type": "stream",
     "text": [
      "25 5.9 True\n"
     ]
    }
   ],
   "source": [
    " #variables are used to store data values. A variable is essentially a name that refers to a particular value in memory. Variables can store data such as numbers, strings, lists, dictionaries, or even more complex objects.\n",
    "# Assigning an integer value to a variable\n",
    "age = 25\n",
    "\n",
    "# Assigning a string value to a variable\n",
    "name = \"Alice\"\n",
    "\n",
    "# Assigning a floating point value to a variable\n",
    "height = 5.9\n",
    "\n",
    "# Assigning a boolean value to a variable\n",
    "is_student = True\n",
    "print(age,height,is_student)\n"
   ]
  },
  {
   "cell_type": "code",
   "execution_count": null,
   "id": "78baf47d-ffd3-4af8-855c-4681f29ef205",
   "metadata": {},
   "outputs": [],
   "source": []
  }
 ],
 "metadata": {
  "kernelspec": {
   "display_name": "Python 3 (ipykernel)",
   "language": "python",
   "name": "python3"
  },
  "language_info": {
   "codemirror_mode": {
    "name": "ipython",
    "version": 3
   },
   "file_extension": ".py",
   "mimetype": "text/x-python",
   "name": "python",
   "nbconvert_exporter": "python",
   "pygments_lexer": "ipython3",
   "version": "3.12.7"
  }
 },
 "nbformat": 4,
 "nbformat_minor": 5
}
